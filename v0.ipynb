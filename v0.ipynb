{
 "cells": [
  {
   "cell_type": "code",
   "execution_count": 1,
   "metadata": {},
   "outputs": [],
   "source": [
    "import os, glob\n",
    "path_files_texts = []\n",
    "path_to_dir_of_path_reports = \"/Users/tp53/Documents/code/rgci_kundan_chufal/sample_hpe\"\n",
    "\n",
    "# Loop through all the text files in the directory and store contents in a giant list\n",
    "for file in glob.glob(os.path.join(path_to_dir_of_path_reports, \"*.txt\")):\n",
    "    # Open each file and read its contents into a string\n",
    "    with open(file, \"r\" , encoding='cp1252') as f:\n",
    "        text_contents_of_file = f.read()\n",
    "        # Append the string to the list\n",
    "        path_files_texts.append(text_contents_of_file)"
   ]
  },
  {
   "cell_type": "code",
   "execution_count": 4,
   "metadata": {},
   "outputs": [
    {
     "name": "stdout",
     "output_type": "stream",
     "text": [
      "/Users/tp53/Documents/code/rgci_kundan_chufal\n"
     ]
    }
   ],
   "source": [
    "import os\n",
    "print(os.getcwd())"
   ]
  },
  {
   "cell_type": "code",
   "execution_count": 7,
   "metadata": {},
   "outputs": [],
   "source": [
    "import cohere\n",
    "import numpy as np\n",
    "\n",
    "apiKey = 'acYUhCGgSu54zqgZDFrrJtgLsNFYMF59L0992b6I'\n",
    "co = cohere.Client(apiKey)\n",
    "\n",
    "\n",
    "embeds = co.embed(texts=path_files_texts,                  \t\t\t\t\n",
    "  \t\t\t\t\tmodel=\"small\",\n",
    "  \t\t\t\t\ttruncate=\"START\").embeddings\n",
    "\n",
    "np.save('cohere_embeddings_small.npy', embeds)\n"
   ]
  },
  {
   "cell_type": "code",
   "execution_count": 17,
   "metadata": {},
   "outputs": [
    {
     "name": "stdout",
     "output_type": "stream",
     "text": [
      "(74, 1)\n"
     ]
    },
    {
     "data": {
      "text/plain": [
       "'\\n# Plot\\nchart = alt.Chart(df).mark_circle(size=60).encode(\\n    x=#\\'x\\',\\n    alt.X(\\'x\\',\\n        scale=alt.Scale(zero=False),\\n        axis=alt.Axis(labels=False, ticks=False, domain=False)\\n    ),\\n    y=\\n    alt.Y(\\'y\\',\\n        scale=alt.Scale(zero=False),\\n        axis=alt.Axis(labels=False, ticks=False, domain=False)\\n    )#,\\n    #tooltip=[\\'title\\']\\n).configure(background=\"#FDF7F0\"\\n).properties(\\n    width=700,\\n    height=400,\\n    title=\\'Pathology reports\\'\\n)\\n\\nchart.interactive()\\n'"
      ]
     },
     "execution_count": 17,
     "metadata": {},
     "output_type": "execute_result"
    }
   ],
   "source": [
    "import umap.umap_ as umap\n",
    "import pandas as pd\n",
    "import altair as alt\n",
    "\n",
    "\n",
    "'''\n",
    "import cohere\n",
    "import numpy as np\n",
    "import re\n",
    "\n",
    "from tqdm import tqdm\n",
    "from datasets import load_dataset\n",
    "\n",
    "\n",
    "from sklearn.metrics.pairwise import cosine_similarity\n",
    "from annoy import AnnoyIndex\n",
    "import warnings\n",
    "from sklearn.cluster import KMeans\n",
    "from bertopic._ctfidf import ClassTFIDF\n",
    "from sklearn.feature_extraction.text import CountVectorizer\n",
    "\n",
    "'''\n",
    "\n",
    "reducer = umap.UMAP(n_neighbors=50) \n",
    "umap_embeds = reducer.fit_transform(embeds)\n",
    "\n",
    "df = pd.DataFrame(path_files_texts)\n",
    "print(df.shape)\n",
    "\n",
    "df['x'] = umap_embeds[:,0]\n",
    "df['y'] = umap_embeds[:,1]\n",
    "\n",
    "print(df.shape)\n",
    "\n",
    "'''\n",
    "# Plot\n",
    "chart = alt.Chart(df).mark_circle(size=60).encode(\n",
    "    x=#'x',\n",
    "    alt.X('x',\n",
    "        scale=alt.Scale(zero=False),\n",
    "        axis=alt.Axis(labels=False, ticks=False, domain=False)\n",
    "    ),\n",
    "    y=\n",
    "    alt.Y('y',\n",
    "        scale=alt.Scale(zero=False),\n",
    "        axis=alt.Axis(labels=False, ticks=False, domain=False)\n",
    "    )#,\n",
    "    #tooltip=['title']\n",
    ").configure(background=\"#FDF7F0\"\n",
    ").properties(\n",
    "    width=700,\n",
    "    height=400,\n",
    "    title='Pathology reports'\n",
    ")\n",
    "\n",
    "chart.interactive()\n",
    "'''"
   ]
  }
 ],
 "metadata": {
  "kernelspec": {
   "display_name": "path",
   "language": "python",
   "name": "python3"
  },
  "language_info": {
   "codemirror_mode": {
    "name": "ipython",
    "version": 3
   },
   "file_extension": ".py",
   "mimetype": "text/x-python",
   "name": "python",
   "nbconvert_exporter": "python",
   "pygments_lexer": "ipython3",
   "version": "3.9.6"
  },
  "orig_nbformat": 4
 },
 "nbformat": 4,
 "nbformat_minor": 2
}
